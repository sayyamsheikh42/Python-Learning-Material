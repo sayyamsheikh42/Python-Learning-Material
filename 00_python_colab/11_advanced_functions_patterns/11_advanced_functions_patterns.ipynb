{
 "cells": [
  {
   "cell_type": "markdown",
   "id": "c88c996e",
   "metadata": {},
   "source": [
    "# **Chapter 11: Advanced Functions & Patterns**\n",
    "Welcome! This chapter turns you from a Python user into a **Python power user**.  \n",
    "You’ll learn techniques that make code **cleaner, faster, and easier to reuse**.\n",
    "\n",
    "### What you'll master\n",
    "1. Closures  \n",
    "2. Function Decorators  \n",
    "3. Class Decorators  \n",
    "4. Higher-Order Functions (map/filter/reduce, composition)  \n",
    "5. Advanced Comprehensions  \n",
    "6. Partial Functions  \n",
    "7. Caching (lru_cache)  \n",
    "8. Advanced Iterators & Generators  \n",
    "9. Context Managers\n",
    "\n",
    "> **Tip:** Run cells as you read. Tweak values, re-run, and watch behavior change.\n"
   ]
  },
  {
   "cell_type": "markdown",
   "id": "d76d2163",
   "metadata": {},
   "source": [
    "## 11.1 Closures\n",
    "A **closure** is a function that remembers variables from the scope where it was created—even after that scope has finished.\n",
    "\n",
    "**Mental model:**  \n",
    "```\n",
    "def outer():\n",
    "    x = 10        # <- captured\n",
    "    def inner():  # <- closure\n",
    "        return x\n",
    "    return inner\n",
    "```\n",
    "The returned `inner` function **remembers** `x`.\n",
    "\n",
    "### Why closures?\n",
    "- Keep **state** without classes (counters, throttles, feature flags)\n",
    "- Create **configurable functions** (validators, formatters)\n",
    "- Light-weight **encapsulation** (hide details)\n"
   ]
  },
  {
   "cell_type": "markdown",
   "id": "35cea987",
   "metadata": {},
   "source": [
    "### Example: Stateful Counter"
   ]
  },
  {
   "cell_type": "code",
   "execution_count": null,
   "id": "16f3f584",
   "metadata": {},
   "outputs": [],
   "source": [
    "def make_counter(start=0):\n",
    "    count = start\n",
    "    def inc(step=1):\n",
    "        nonlocal count\n",
    "        count += step\n",
    "        return count\n",
    "    return inc\n",
    "\n",
    "c1 = make_counter(10)\n",
    "c2 = make_counter(100)\n",
    "\n",
    "print(\"c1:\", c1())       # 11\n",
    "print(\"c1:\", c1(5))      # 16\n",
    "print(\"c2:\", c2())       # 101\n"
   ]
  },
  {
   "cell_type": "markdown",
   "id": "c31a0e8e",
   "metadata": {},
   "source": [
    "**Visualization**\n",
    "```\n",
    "make_counter(10)\n",
    "|\n",
    "|-- count = 10\n",
    "|-- returns inc() -> remembers count\n",
    "```\n",
    "Closures are like giving a function **memory** of its environment.\n",
    "\n",
    "### Example: Validator Factory"
   ]
  },
  {
   "cell_type": "code",
   "execution_count": null,
   "id": "7b9d645d",
   "metadata": {},
   "outputs": [],
   "source": [
    "def length_validator(min_len=0, max_len=10):\n",
    "    def validate(s: str) -> bool:\n",
    "        return min_len <= len(s) <= max_len\n",
    "    return validate\n",
    "\n",
    "name_ok = length_validator(3, 8)\n",
    "print(name_ok(\"Ali\"))        # True\n",
    "print(name_ok(\"A\"))          # False\n",
    "print(name_ok(\"Alexander\"))  # False\n"
   ]
  },
  {
   "cell_type": "markdown",
   "id": "a0797b94",
   "metadata": {},
   "source": [
    "### Exercises (Closures)\n",
    "1) Write `discount(percent)` that returns a function `apply(price)` → returns price after discount.  \n",
    "2) Implement `call_counter()` that returns a function which increments and returns how many times it has been called.  \n",
    "3) Make `remember_last_k(k)` that returns a function; every call saves the input and returns the last *k* inputs.\n"
   ]
  },
  {
   "cell_type": "markdown",
   "id": "b664bff8",
   "metadata": {},
   "source": [
    "## 11.2 Function Decorators\n",
    "A **decorator** is a callable that takes a function and returns a new function (often adding behavior).\n",
    "\n",
    "**Analogy:** Gift 🎁 wrapping — same gift, extra presentation (logging, timing, checks).\n",
    "\n",
    "### Basic decorator"
   ]
  },
  {
   "cell_type": "code",
   "execution_count": null,
   "id": "f91e6960",
   "metadata": {},
   "outputs": [],
   "source": [
    "def my_decorator(func):\n",
    "    def wrapper(*args, **kwargs):\n",
    "        print(\"Before\")\n",
    "        result = func(*args, **kwargs)\n",
    "        print(\"After\")\n",
    "        return result\n",
    "    return wrapper\n",
    "\n",
    "@my_decorator\n",
    "def greet(name):\n",
    "    print(f\"Hello, {name}!\")\n",
    "\n",
    "greet(\"Aisha\")\n"
   ]
  },
  {
   "cell_type": "markdown",
   "id": "c7878c60",
   "metadata": {},
   "source": [
    "### Logging decorator (with metadata preserved via `functools.wraps`)"
   ]
  },
  {
   "cell_type": "code",
   "execution_count": null,
   "id": "cec0c8b9",
   "metadata": {},
   "outputs": [],
   "source": [
    "import functools\n",
    "\n",
    "def logger(fn):\n",
    "    @functools.wraps(fn)\n",
    "    def wrapper(*args, **kwargs):\n",
    "        print(f\"[LOG] {fn.__name__} args={args} kwargs={kwargs}\")\n",
    "        return fn(*args, **kwargs)\n",
    "    return wrapper\n",
    "\n",
    "@logger\n",
    "def add(a, b):\n",
    "    return a + b\n",
    "\n",
    "print(\"sum:\", add(5, 3))\n",
    "print(\"preserved name:\", add.__name__)\n"
   ]
  },
  {
   "cell_type": "markdown",
   "id": "d3b0c10f",
   "metadata": {},
   "source": [
    "### Timer decorator + stacking\n",
    "Decorators can be stacked like layers of a cake 🎂."
   ]
  },
  {
   "cell_type": "code",
   "execution_count": null,
   "id": "f882e140",
   "metadata": {},
   "outputs": [],
   "source": [
    "import time, functools\n",
    "\n",
    "def timer(fn):\n",
    "    @functools.wraps(fn)\n",
    "    def wrapper(*args, **kwargs):\n",
    "        start = time.perf_counter()\n",
    "        try:\n",
    "            return fn(*args, **kwargs)\n",
    "        finally:\n",
    "            print(f\"[TIMER] {fn.__name__} took {time.perf_counter() - start:.6f}s\")\n",
    "    return wrapper\n",
    "\n",
    "@logger\n",
    "@timer\n",
    "def work(n=20000):\n",
    "    s = 0\n",
    "    for i in range(n):\n",
    "        s += i*i\n",
    "    return s\n",
    "\n",
    "print(\"work result:\", work(50000))\n"
   ]
  },
  {
   "cell_type": "markdown",
   "id": "279497ef",
   "metadata": {},
   "source": [
    "### Decorator with parameters\n",
    "3-layer design: `decorator_factory(args) -> decorator(fn) -> wrapper(...)`.\n"
   ]
  },
  {
   "cell_type": "code",
   "execution_count": null,
   "id": "062ea166",
   "metadata": {},
   "outputs": [],
   "source": [
    "import functools\n",
    "\n",
    "def require_role(role):\n",
    "    def decorator(fn):\n",
    "        @functools.wraps(fn)\n",
    "        def wrapper(user, *args, **kwargs):\n",
    "            if getattr(user, \"role\", None) != role:\n",
    "                raise PermissionError(\"forbidden\")\n",
    "            return fn(user, *args, **kwargs)\n",
    "        return wrapper\n",
    "    return decorator\n",
    "\n",
    "class User:\n",
    "    def __init__(self, name, role):\n",
    "        self.name, self.role = name, role\n",
    "\n",
    "@require_role(\"admin\")\n",
    "def delete_record(user, rid):\n",
    "    return f\"deleted {rid}\"\n",
    "\n",
    "admin = User(\"Ali\", \"admin\")\n",
    "viewer = User(\"Aisha\", \"viewer\")\n",
    "print(delete_record(admin, 42))\n",
    "# delete_record(viewer, 42)  # Uncomment to see the exception\n"
   ]
  },
  {
   "cell_type": "markdown",
   "id": "8415c9a0",
   "metadata": {},
   "source": [
    "### Exercises (Decorators)\n",
    "1) Build `@retry(n=3)` that retries on exception (exponential backoff optional).  \n",
    "2) Build `@cache_dict` that caches results in a dict (keyed by args).  \n",
    "3) Create `@validate_nonempty` that rejects empty-string arguments.\n"
   ]
  },
  {
   "cell_type": "markdown",
   "id": "e9231608",
   "metadata": {},
   "source": [
    "## 11.3 Class Decorators\n",
    "A **class decorator** takes a class and returns a modified class. Use for registration, auto-methods, or invariants.\n",
    "\n",
    "### Auto `__repr__` and registry examples"
   ]
  },
  {
   "cell_type": "code",
   "execution_count": null,
   "id": "8b3dce5c",
   "metadata": {},
   "outputs": [],
   "source": [
    "def auto_repr(cls):\n",
    "    def __repr__(self):\n",
    "        kv = \", \".join(f\"{k}={v!r}\" for k, v in self.__dict__.items())\n",
    "        return f\"{cls.__name__}({kv})\"\n",
    "    cls.__repr__ = __repr__\n",
    "    return cls\n",
    "\n",
    "@auto_repr\n",
    "class Person:\n",
    "    def __init__(self, name, age):\n",
    "        self.name, self.age = name, age\n",
    "\n",
    "print(Person(\"Sara\", 21))\n",
    "\n",
    "REGISTRY = {}\n",
    "\n",
    "def register(cls):\n",
    "    REGISTRY[cls.__name__] = cls\n",
    "    return cls\n",
    "\n",
    "@register\n",
    "class Foo: pass\n",
    "\n",
    "@register\n",
    "class Bar: pass\n",
    "\n",
    "print(\"REGISTRY:\", REGISTRY)\n"
   ]
  },
  {
   "cell_type": "markdown",
   "id": "6c06c7bd",
   "metadata": {},
   "source": [
    "### Exercises (Class Decorators)\n",
    "1) Make `@enforce_attrs(required=(\"id\",\"name\"))` that raises in `__init__` if missing.  \n",
    "2) Make `@frozen` that prevents attribute reassignment after `__init__`.\n"
   ]
  },
  {
   "cell_type": "markdown",
   "id": "51b233fd",
   "metadata": {},
   "source": [
    "## 11.4 Higher-Order Functions (HOFs)\n",
    "Functions that **take functions** or **return functions**. Great for pipelines.\n",
    "\n",
    "### Composition + map/filter/reduce examples"
   ]
  },
  {
   "cell_type": "code",
   "execution_count": null,
   "id": "4ade65a5",
   "metadata": {},
   "outputs": [],
   "source": [
    "from functools import reduce\n",
    "\n",
    "def compose(f, g):\n",
    "    return lambda x: f(g(x))\n",
    "\n",
    "def strip(s): return s.strip()\n",
    "def lower(s): return s.lower()\n",
    "def not_empty(s): return bool(s)\n",
    "\n",
    "inputs = [\"  Hello \", \"  \", \"World\", \"  PY  \"]\n",
    "cleaned = list(map(lower, filter(not_empty, map(strip, inputs))))\n",
    "print(\"cleaned:\", cleaned)\n",
    "\n",
    "nums = [1,2,3,4]\n",
    "sum_sq = reduce((lambda acc, x: acc + x*x), nums, 0)\n",
    "print(\"sum of squares:\", sum_sq)\n"
   ]
  },
  {
   "cell_type": "markdown",
   "id": "5d9ca9fc",
   "metadata": {},
   "source": [
    "### Exercises (HOFs)\n",
    "1) Build `pipeline(funcs)` that takes a list of functions and returns a composed function.  \n",
    "2) Using `map/filter`, normalize a list of emails: strip, lower, and keep only ones containing `'@'`.\n"
   ]
  },
  {
   "cell_type": "markdown",
   "id": "6efa84ed",
   "metadata": {},
   "source": [
    "## 11.5 Advanced Comprehensions\n",
    "Concise list/dict/set construction with conditions and nesting. Use for clarity, not cleverness.\n",
    "\n",
    "### Flatten, frequency, and set-normalization examples"
   ]
  },
  {
   "cell_type": "code",
   "execution_count": null,
   "id": "7fb653f8",
   "metadata": {},
   "outputs": [],
   "source": [
    "# Nested list comprehension: flatten matrix\n",
    "matrix = [[1,2,3],[4,5,6]]\n",
    "flat = [x for row in matrix for x in row]\n",
    "print(\"flat:\", flat)\n",
    "\n",
    "# Dict comprehension: word frequency\n",
    "text = \"to be or not to be\"\n",
    "freq = {w: sum(1 for t in text.split() if t == w) for w in set(text.split())}\n",
    "print(\"freq:\", freq)\n",
    "\n",
    "# Set comprehension: unique normalized items\n",
    "items = {\"  A \", \" a\", \"B \", \"b  \"}\n",
    "normalized = {i.strip().lower() for i in items}\n",
    "print(\"normalized:\", normalized)\n"
   ]
  },
  {
   "cell_type": "markdown",
   "id": "5bc98445",
   "metadata": {},
   "source": [
    "### Exercises (Comprehensions)\n",
    "1) Build a dict `{word: length}` for unique words in a sentence.  \n",
    "2) Create a 3x3 identity matrix with a nested list comprehension.\n"
   ]
  },
  {
   "cell_type": "markdown",
   "id": "7591a3d1",
   "metadata": {},
   "source": [
    "## 11.6 Partial Functions\n",
    "`functools.partial` pre-fills arguments, creating specialized callables.\n",
    "\n",
    "### Examples: math and printing"
   ]
  },
  {
   "cell_type": "code",
   "execution_count": null,
   "id": "a241af76",
   "metadata": {},
   "outputs": [],
   "source": [
    "from functools import partial\n",
    "\n",
    "def power(base, exp):\n",
    "    return base ** exp\n",
    "\n",
    "square = partial(power, exp=2)\n",
    "cube = partial(power, exp=3)\n",
    "print(\"square(5):\", square(5))\n",
    "print(\"cube(2):\", cube(2))\n",
    "\n",
    "# preconfigured printer\n",
    "debug = partial(print, \"[DEBUG]\")\n",
    "debug(\"Ready\", 123)\n"
   ]
  },
  {
   "cell_type": "markdown",
   "id": "d4dfb409",
   "metadata": {},
   "source": [
    "### Exercises (Partial)\n",
    "1) Create `kebab_join = partial(str.join, '-')` and use it on lists of words.  \n",
    "2) Make `percent = partial(power, exp=1)` trivial; then change `power` to handle floats and test partials.\n"
   ]
  },
  {
   "cell_type": "markdown",
   "id": "e4f57743",
   "metadata": {},
   "source": [
    "## 11.7 Caching with `functools.lru_cache`\n",
    "Memoization speeds up repeated calls to pure functions.\n",
    "\n",
    "### Fibonacci example (plain vs cached)"
   ]
  },
  {
   "cell_type": "code",
   "execution_count": null,
   "id": "8a116ed7",
   "metadata": {},
   "outputs": [],
   "source": [
    "import time\n",
    "from functools import lru_cache\n",
    "\n",
    "def fib_plain(n):\n",
    "    return n if n < 2 else fib_plain(n-1) + fib_plain(n-2)\n",
    "\n",
    "@lru_cache(maxsize=None)\n",
    "def fib_fast(n):\n",
    "    return n if n < 2 else fib_fast(n-1) + fib_fast(n-2)\n",
    "\n",
    "start = time.time(); print(\"plain(25):\", fib_plain(25)); print(\"plain time:\", round(time.time()-start,3), \"s\")\n",
    "start = time.time(); print(\"fast(35):\", fib_fast(35));  print(\"fast time:\", round(time.time()-start,3), \"s\")\n"
   ]
  },
  {
   "cell_type": "markdown",
   "id": "9353c840",
   "metadata": {},
   "source": [
    "### Exercises (Caching)\n",
    "1) Cache a slow factorial recursion and compare timings.  \n",
    "2) Add an argument to control `maxsize` and see impact.\n"
   ]
  },
  {
   "cell_type": "markdown",
   "id": "42a5c23f",
   "metadata": {},
   "source": [
    "## 11.8 Advanced Iterators & Generators\n",
    "- **Iterator class**: implement `__iter__` and `__next__`  \n",
    "- **Generator function**: uses `yield` for lazy sequences\n",
    "\n",
    "### Even iterator + generator pipeline examples"
   ]
  },
  {
   "cell_type": "code",
   "execution_count": null,
   "id": "a3b5014f",
   "metadata": {},
   "outputs": [],
   "source": [
    "class Evens:\n",
    "    def __init__(self, n):\n",
    "        self.n = n\n",
    "        self.i = 0\n",
    "    def __iter__(self):\n",
    "        return self\n",
    "    def __next__(self):\n",
    "        self.i += 2\n",
    "        if self.i > self.n:\n",
    "            raise StopIteration\n",
    "        return self.i\n",
    "\n",
    "print(list(Evens(10)))\n",
    "\n",
    "def read_lines(lines):\n",
    "    for line in lines:\n",
    "        yield line.strip()\n",
    "\n",
    "def to_ints(lines):\n",
    "    for line in lines:\n",
    "        if line:\n",
    "            yield int(line)\n",
    "\n",
    "def only_even(nums):\n",
    "    for n in nums:\n",
    "        if n % 2 == 0:\n",
    "            yield n\n",
    "\n",
    "sample = [\"1\",\"2\",\"3\",\"4\",\"\"]\n",
    "print(list(only_even(to_ints(read_lines(sample)))))\n"
   ]
  },
  {
   "cell_type": "markdown",
   "id": "d296abe9",
   "metadata": {},
   "source": [
    "### Exercises (Iterators/Generators)\n",
    "1) Create a generator that yields powers of two up to a limit.  \n",
    "2) Build a pipeline that reads CSV lines, parses ints, filters > threshold, and computes a sum.\n"
   ]
  },
  {
   "cell_type": "markdown",
   "id": "5aacaa3e",
   "metadata": {},
   "source": [
    "## 11.9 Context Managers\n",
    "Ensure resources are cleaned up automatically using `with`.\n",
    "\n",
    "### Timer & safe file handle examples"
   ]
  },
  {
   "cell_type": "code",
   "execution_count": null,
   "id": "8a0c1344",
   "metadata": {},
   "outputs": [],
   "source": [
    "from contextlib import contextmanager\n",
    "import time, os\n",
    "\n",
    "@contextmanager\n",
    "def timer(label=\"block\"):\n",
    "    start = time.perf_counter()\n",
    "    try:\n",
    "        yield\n",
    "    finally:\n",
    "        print(f\"[TIMER] {label}: {time.perf_counter() - start:.6f}s\")\n",
    "\n",
    "with timer(\"sum squares\"):\n",
    "    _ = sum(i*i for i in range(100_000))\n",
    "\n",
    "class OpenPath:\n",
    "    def __init__(self, path, mode=\"w\", encoding=\"utf-8\"):\n",
    "        self.path, self.mode, self.encoding = path, mode, encoding\n",
    "        self.f = None\n",
    "    def __enter__(self):\n",
    "        os.makedirs(os.path.dirname(self.path), exist_ok=True)\n",
    "        self.f = open(self.path, self.mode, encoding=self.encoding)\n",
    "        return self.f\n",
    "    def __exit__(self, exc_type, exc, tb):\n",
    "        if self.f:\n",
    "            self.f.close()\n",
    "\n",
    "with OpenPath(\"tmp/data.txt\") as f:\n",
    "    f.write(\"hello context managers\")\n"
   ]
  },
  {
   "cell_type": "markdown",
   "id": "e98246f4",
   "metadata": {},
   "source": [
    "### Exercises (Context Managers)\n",
    "1) Write a context manager that temporarily changes `os.getcwd()` (use `os.chdir`) and then restores it.  \n",
    "2) Create a context manager that silences stdout for a block.\n"
   ]
  },
  {
   "cell_type": "markdown",
   "id": "5a6b8c41",
   "metadata": {},
   "source": [
    "## Summary & Final Challenges\n",
    "**You now have a professional toolkit:**\n",
    "- Closures for state & config\n",
    "- Decorators for cross-cutting concerns\n",
    "- Class decorators for meta-features\n",
    "- HOFs & comprehensions for pipelines\n",
    "- Partial & caching for speed and ergonomics\n",
    "- Iterators & generators for lazy data\n",
    "- Context managers for safety\n",
    "\n",
    "### Final Challenges\n",
    "1) Build a mini authorization layer:\n",
    "   - Closure to hold current user session\n",
    "   - `@require_role` decorator to guard actions\n",
    "   - Context manager to audit actions (write to a file)\n",
    "2) Create a data pipeline:\n",
    "   - Read a large text file lazily\n",
    "   - Normalize & filter tokens\n",
    "   - Count frequencies with comprehensions\n",
    "   - Cache expensive stemming or normalization\n"
   ]
  }
 ],
 "metadata": {
  "kernelspec": {
   "display_name": "Python 3",
   "language": "python",
   "name": "python3"
  },
  "language_info": {
   "name": "python",
   "version": "3.x"
  }
 },
 "nbformat": 4,
 "nbformat_minor": 5
}
