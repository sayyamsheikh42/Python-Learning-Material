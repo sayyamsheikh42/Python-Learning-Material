{
  "nbformat": 4,
  "nbformat_minor": 0,
  "metadata": {
    "colab": {
      "provenance": []
    },
    "kernelspec": {
      "name": "python3",
      "display_name": "Python 3"
    },
    "language_info": {
      "name": "python"
    }
  },
  "cells": [
    {
      "cell_type": "markdown",
      "source": [
        "<font color=\"#a9a56c\" size=2> **@Author: Arif Kasim Rozani - (Team Operation Badar)** </font>\n"
      ],
      "metadata": {
        "id": "38_QpUXJOAII"
      }
    },
    {
      "cell_type": "markdown",
      "source": [
        "## **Class Variable vs Instance Variable**"
      ],
      "metadata": {
        "id": "rVFqpArG3hjW"
      }
    },
    {
      "cell_type": "markdown",
      "source": [
        "## **Key Differences**\n",
        "\n",
        "\n",
        "| Feature      | Class Variable                                            | Instance Variable                          |   |\n",
        "|--------------|-----------------------------------------------------------|--------------------------------------------|---|\n",
        "| Scope        | Shared by all instances of the class                      | Unique to each instance of the class       |   |\n",
        "| Creation     | Created when the class is defined                         | Created when an object is instantiated     |   |\n",
        "| Access       | Accessed using the class name or instance name            | Accessed through an instance of the class  |   |\n",
        "| Modification | Modified using the class name                             | Modified through a specific instance       |   |\n",
        "| Use Cases    | Maintain values common to all instances, track statistics | Store object-specific data                 "
      ],
      "metadata": {
        "id": "v6IKcUnqyKi3"
      }
    },
    {
      "cell_type": "markdown",
      "source": [
        "Understanding the distinction between class and instance variables is crucial for effective object-oriented programming in Python. Class variables provide a way to share data and behavior across all instances of a class, while instance variables allow each object to have its own unique state."
      ],
      "metadata": {
        "id": "fVh8oNn3zeRO"
      }
    },
    {
      "cell_type": "markdown",
      "source": [
        "# **Composition and Aggregation**\n",
        "\n",
        "Composition and Aggregation are not design patterns — they are object-oriented design principles — how objects are built or connected."
      ],
      "metadata": {
        "id": "6574SKpN2kBm"
      }
    },
    {
      "cell_type": "markdown",
      "source": [
        "### ✅ Composition (Strong Relationship — \"part of\")\n",
        "\n",
        "-   Think of a **car and its engine**.\n",
        "    \n",
        "-   A car **has-an** engine.\n",
        "    \n",
        "-   If the **car is destroyed**, the **engine is gone too**.\n",
        "    \n",
        "-   The engine **can’t exist on its own** — it’s part of the car.\n",
        "    \n",
        "-   In Python, this means one class creates and **owns** objects of another class."
      ],
      "metadata": {
        "id": "hR5fMwnM4k9N"
      }
    },
    {
      "cell_type": "code",
      "source": [
        "class Engine:\n",
        "    def start(self):\n",
        "        print(\"Engine starts\")\n",
        "\n",
        "class Car:\n",
        "    def __init__(self):\n",
        "        self.engine = Engine()  # Car owns the Engine\n",
        "\n",
        "    def drive(self):\n",
        "        self.engine.start()\n",
        "\n",
        "my_car = Car()\n",
        "my_car.drive()\n"
      ],
      "metadata": {
        "colab": {
          "base_uri": "https://localhost:8080/"
        },
        "id": "uR93HXMx4v7k",
        "outputId": "82d7d38c-d488-48e9-8a9b-12ecaa049059"
      },
      "execution_count": null,
      "outputs": [
        {
          "output_type": "stream",
          "name": "stdout",
          "text": [
            "Engine starts\n"
          ]
        }
      ]
    },
    {
      "cell_type": "markdown",
      "source": [
        "<font color=orange>If my_car is deleted, the engine is also gone — they are tightly connected.</font>"
      ],
      "metadata": {
        "id": "5Kvqurhi44mt"
      }
    },
    {
      "cell_type": "markdown",
      "source": [
        "\n",
        "### ✅ Aggregation (Weak Relationship — \"connected to\")\n",
        "\n",
        "-   Think of a **school and its students**.\n",
        "    \n",
        "-   A school **has students**, but students can **exist without** the school.\n",
        "    \n",
        "-   If the school closes, the students still **exist elsewhere**.\n",
        "    \n",
        "-   In Python, this means one class is **linked** to another, but doesn’t own it."
      ],
      "metadata": {
        "id": "fNBFQaEj5Dv1"
      }
    },
    {
      "cell_type": "code",
      "source": [
        "class Student:\n",
        "    def __init__(self, name):\n",
        "        self.name = name\n",
        "\n",
        "class School:\n",
        "    def __init__(self, students):\n",
        "        self.students = students  # School does not own students\n",
        "\n",
        "student1 = Student(\"Ali\")\n",
        "student2 = Student(\"Sara\")\n",
        "my_school = School([student1, student2])\n",
        "\n",
        "print(\"School = \", my_school)"
      ],
      "metadata": {
        "colab": {
          "base_uri": "https://localhost:8080/"
        },
        "id": "r6xphLWI5LO2",
        "outputId": "5c1a5ccf-0a5b-4826-f487-bc923d206689"
      },
      "execution_count": null,
      "outputs": [
        {
          "output_type": "stream",
          "name": "stdout",
          "text": [
            "School =  <__main__.School object at 0x7c7b306b23d0>\n"
          ]
        }
      ]
    },
    {
      "cell_type": "code",
      "source": [
        "del my_school"
      ],
      "metadata": {
        "id": "ZKzpVrsA5nqt"
      },
      "execution_count": null,
      "outputs": []
    },
    {
      "cell_type": "code",
      "source": [
        "print(\"Student1 = \", student1)\n",
        "print(\"Student2 = \", student2)"
      ],
      "metadata": {
        "colab": {
          "base_uri": "https://localhost:8080/"
        },
        "id": "IbTwNMmt5qCc",
        "outputId": "22813977-ae26-489f-b307-ea15471e21b4"
      },
      "execution_count": null,
      "outputs": [
        {
          "output_type": "stream",
          "name": "stdout",
          "text": [
            "Student1 =  <__main__.Student object at 0x7c7b306b25d0>\n",
            "Student2 =  <__main__.Student object at 0x7c7b306b2510>\n"
          ]
        }
      ]
    },
    {
      "cell_type": "markdown",
      "source": [
        "<font color=orange>Here, even if my_school is deleted, student1 and student2 still exist — they’re independent.</font>"
      ],
      "metadata": {
        "id": "jnMBO65j5WHE"
      }
    },
    {
      "cell_type": "markdown",
      "source": [
        "# **Method Resolution Order (MRO) and Diamond Inheritance**\n",
        "\n",
        "**Method Resolution Order (MRO)** is the order in which Python searches for methods and attributes in a class hierarchy, especially in cases of multiple inheritance. It ensures that the correct method or attribute is found and called `when there are overlapping names in the inheritance tree`."
      ],
      "metadata": {
        "id": "408uEHx_cyAW"
      }
    },
    {
      "cell_type": "markdown",
      "source": [
        "## **Example: Understanding MRO in Python**\n",
        "\n",
        "Let’s create a class hierarchy with multiple inheritance to demonstrate how MRO works."
      ],
      "metadata": {
        "id": "tNRIV1zGdPT0"
      }
    },
    {
      "cell_type": "code",
      "source": [
        "# Define the classes\n",
        "class A:\n",
        "    def greet(self):\n",
        "        return \"Hello from A\"\n",
        "\n",
        "class B(A):\n",
        "    def greet(self):\n",
        "        return \"Hello from B\"\n",
        "\n",
        "class C(A):\n",
        "    def greet(self):\n",
        "        return \"Hello from C\"\n",
        "\n",
        "class D(B, C): # Diamond Inheritance\n",
        "    pass\n",
        "\n",
        "# Create an instance of D\n",
        "d = D()\n",
        "\n",
        "# Check the MRO of class D\n",
        "print(D.mro())  # Output: [<class '__main__.D'>, <class '__main__.B'>, <class '__main__.C'>, <class '__main__.A'>, <class 'object'>]\n",
        "\n",
        "# Call the greet method\n",
        "print(d.greet())  # Output: Hello from B\n",
        "print(\"The MRO for class D can be visualized as a linear sequence: D → B → C → A → object\")"
      ],
      "metadata": {
        "colab": {
          "base_uri": "https://localhost:8080/"
        },
        "id": "qJHLLxvldR-D",
        "outputId": "dc45a06b-40cf-4cef-b588-219df7158fa1"
      },
      "execution_count": null,
      "outputs": [
        {
          "output_type": "stream",
          "name": "stdout",
          "text": [
            "[<class '__main__.D'>, <class '__main__.B'>, <class '__main__.C'>, <class '__main__.A'>, <class 'object'>]\n",
            "Hello from B\n",
            "The MRO for class D can be visualized as a linear sequence: D → B → C → A → object\n"
          ]
        }
      ]
    },
    {
      "cell_type": "markdown",
      "source": [
        "\n",
        "### 🎯 KEY POINT:\n",
        "\n",
        "> **“When there are overlapping names in the inheritance tree”** means **more than one parent class** defines the **same method or attribute name**.  \n",
        "> Python then uses **MRO** to figure out **which one to call** — avoiding confusion and errors."
      ],
      "metadata": {
        "id": "B17yx1KD8y9z"
      }
    },
    {
      "cell_type": "markdown",
      "source": [
        "[The Veiled Virgin](https://en.wikipedia.org/wiki/The_Veiled_Virgin)"
      ],
      "metadata": {
        "id": "dl4WGH_vb4mn"
      }
    },
    {
      "cell_type": "markdown",
      "source": [
        "![Veiled_virgin.jpg](data:image/jpeg;base64,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)"
      ],
      "metadata": {
        "id": "ubFBARXkbqv6"
      }
    },
    {
      "cell_type": "markdown",
      "source": [
        "<font color=orange>The Veiled(vayld) Virgin looks like it’s wearing a soft veil, but it’s all carved from one solid rock—just like a decorator adds something extra to a function without changing it. The function stays the same underneath, but the decorator adds a special effect. It’s like dressing up your code without touching its heart.</font>\n",
        "\n",
        "\n",
        "\n",
        "\n",
        "\n",
        "\n"
      ],
      "metadata": {
        "id": "wHuPovIgc-RB"
      }
    },
    {
      "cell_type": "markdown",
      "source": [
        "# **Decorators in Classes**\n",
        "\n",
        "Decorators in Python are a powerful feature that allows you to modify or extend the behavior of functions or methods. When applied to classes, decorators can enhance or alter the behavior of the class or its methods. Additionally, Python provides specific property decorators (@property, @setter, and @deleter) to manage attribute access in a controlled way."
      ],
      "metadata": {
        "id": "fR0DihIrfbpK"
      }
    },
    {
      "cell_type": "markdown",
      "source": [
        "## **Function Decorators**"
      ],
      "metadata": {
        "id": "STfVl90gC4s9"
      }
    },
    {
      "cell_type": "code",
      "source": [
        "def star_decorator(func):   # say_hello() will passed as a parameter\n",
        "    def wrapper():\n",
        "        print(\"★\" * 5)\n",
        "        func()\n",
        "        print(\"★\" * 5)\n",
        "    return wrapper\n",
        "\n",
        "@star_decorator\n",
        "def say_hello():\n",
        "    print(\"Hello!\")\n",
        "\n",
        "say_hello()"
      ],
      "metadata": {
        "colab": {
          "base_uri": "https://localhost:8080/"
        },
        "id": "A46Ye0uoDFat",
        "outputId": "e01a89be-914d-4ce1-963a-c69bc7762ce9"
      },
      "execution_count": null,
      "outputs": [
        {
          "output_type": "stream",
          "name": "stdout",
          "text": [
            "★★★★★\n",
            "Hello!\n",
            "★★★★★\n"
          ]
        }
      ]
    },
    {
      "cell_type": "markdown",
      "source": [
        "## **Class Decorators**"
      ],
      "metadata": {
        "id": "7-JfxqL1fnTz"
      }
    },
    {
      "cell_type": "code",
      "source": [
        "class ObjectCounter:\n",
        "    def __init__(self, cls):\n",
        "        print(\"Decorator Applied: \", cls)\n",
        "        self.cls = cls\n",
        "        self.count = 0\n",
        "\n",
        "    def __call__(self, *args, **kwargs):\n",
        "        self.count += 1\n",
        "        print(f\"{self.cls.__name__} object created {self.count} times\")\n",
        "        return self.cls(*args, **kwargs)"
      ],
      "metadata": {
        "id": "loxqDwY_Eev5"
      },
      "execution_count": null,
      "outputs": []
    },
    {
      "cell_type": "code",
      "source": [
        "@ObjectCounter\n",
        "class Animal:\n",
        "  pass"
      ],
      "metadata": {
        "colab": {
          "base_uri": "https://localhost:8080/"
        },
        "id": "ps4lR2SODZNc",
        "outputId": "0162aebd-78a3-44da-e0ec-cdcb991b7b7d"
      },
      "execution_count": null,
      "outputs": [
        {
          "output_type": "stream",
          "name": "stdout",
          "text": [
            "Decorator Applied:  <class '__main__.Animal'>\n"
          ]
        }
      ]
    },
    {
      "cell_type": "code",
      "source": [
        "# Create instances\n",
        "a = Animal()\n",
        "b = Animal()\n",
        "c = Animal()"
      ],
      "metadata": {
        "colab": {
          "base_uri": "https://localhost:8080/"
        },
        "id": "x8AIJ9emFiTT",
        "outputId": "0f917451-a629-4f77-ac17-429097238b1d"
      },
      "execution_count": null,
      "outputs": [
        {
          "output_type": "stream",
          "name": "stdout",
          "text": [
            "Animal object created 1 times\n",
            "Animal object created 2 times\n",
            "Animal object created 3 times\n"
          ]
        }
      ]
    },
    {
      "cell_type": "code",
      "source": [
        "@ObjectCounter\n",
        "class Car:\n",
        "  pass"
      ],
      "metadata": {
        "colab": {
          "base_uri": "https://localhost:8080/"
        },
        "id": "Ko8W6jj1EYl0",
        "outputId": "9eeabdf1-7b3d-42cc-c834-33f53beaa079"
      },
      "execution_count": null,
      "outputs": [
        {
          "output_type": "stream",
          "name": "stdout",
          "text": [
            "Decorator Applied:  <class '__main__.Car'>\n"
          ]
        }
      ]
    },
    {
      "cell_type": "code",
      "source": [
        "car1 = Car()\n",
        "car2 = Car()"
      ],
      "metadata": {
        "colab": {
          "base_uri": "https://localhost:8080/"
        },
        "id": "JaHXcRO_FnnK",
        "outputId": "7006b077-397c-4dde-906d-de09cded3a4d"
      },
      "execution_count": null,
      "outputs": [
        {
          "output_type": "stream",
          "name": "stdout",
          "text": [
            "Car object created 1 times\n",
            "Car object created 2 times\n"
          ]
        }
      ]
    },
    {
      "cell_type": "markdown",
      "source": [
        "## **Property Decorators**\n",
        "\n",
        " <font color=orange>It allows you to access the attribute like a property rather than a method. You can also define setter and **deleter** methods using the @setter and @deleter decorators, respectively.\n",
        "\n",
        "\n",
        "property decorators like `@property`, `@setter`, and `@deleter` are **built-in** in Python.\n",
        "</font>"
      ],
      "metadata": {
        "id": "90yUMeHKfslX"
      }
    },
    {
      "cell_type": "markdown",
      "source": [
        "### **1️⃣ Basic Getter (Read-Only Property)**"
      ],
      "metadata": {
        "id": "KABPdm3RvGnD"
      }
    },
    {
      "cell_type": "code",
      "source": [
        "class Person:\n",
        "    def __init__(self, name):\n",
        "        self._name = name  # Internal variable (convention: `_name`)\n",
        "\n",
        "    @property\n",
        "    def name(self):\n",
        "        \"\"\"Getter for name\"\"\"\n",
        "        return self._name\n",
        "\n",
        "# Usage\n",
        "person = Person(\"Alice\")\n",
        "print(\"person.name: \", person.name)  # Like an attribute (no parentheses!)"
      ],
      "metadata": {
        "colab": {
          "base_uri": "https://localhost:8080/"
        },
        "id": "HCdqNp6WvUpi",
        "outputId": "ffc1ca57-c52b-43da-82f8-0d5180436244"
      },
      "execution_count": null,
      "outputs": [
        {
          "output_type": "stream",
          "name": "stdout",
          "text": [
            "person.name:  Alice\n"
          ]
        }
      ]
    },
    {
      "cell_type": "markdown",
      "source": [
        "### **2️⃣ Setter (Change a Value with Validation)**"
      ],
      "metadata": {
        "id": "3ba69XhmvbpJ"
      }
    },
    {
      "cell_type": "code",
      "source": [
        "class Person:\n",
        "    def __init__(self, name):\n",
        "        self._name = name\n",
        "\n",
        "    @property\n",
        "    def name(self):\n",
        "        return self._name\n",
        "\n",
        "    @name.setter\n",
        "    def name(self, new_name):\n",
        "        self._name = new_name\n",
        "\n",
        "# Usage\n",
        "person = Person(\"Bob\")\n",
        "print(\"Before - person.name: \",person.name)\n",
        "person.name = \"Charlie\"  # Works\n",
        "print(\"After  - person.name: \",person.name)  # Output: Charlie"
      ],
      "metadata": {
        "colab": {
          "base_uri": "https://localhost:8080/"
        },
        "id": "lnDqiXf1vdpS",
        "outputId": "35068b30-2dbf-4f4b-f9b1-4aabbf142631"
      },
      "execution_count": null,
      "outputs": [
        {
          "output_type": "stream",
          "name": "stdout",
          "text": [
            "Before - person.name:  Bob\n",
            "After  - person.name:  Charlie\n"
          ]
        }
      ]
    },
    {
      "cell_type": "markdown",
      "source": [
        "### **3️⃣ Deleter (Remove an Attribute)**"
      ],
      "metadata": {
        "id": "OLiIPoQmvwfr"
      }
    },
    {
      "cell_type": "code",
      "source": [
        "class Person:\n",
        "    def __init__(self, name):\n",
        "        self._name = name\n",
        "\n",
        "    @property\n",
        "    def name(self):\n",
        "        return self._name\n",
        "\n",
        "    @name.deleter\n",
        "    def name(self):\n",
        "        print(\"Deleting name!\")\n",
        "        del self._name\n",
        "\n",
        "# Usage\n",
        "person = Person(\"Dave\")\n",
        "print(person.name)  # Output: Dave\n",
        "\n",
        "del person.name  # Runs deleter"
      ],
      "metadata": {
        "colab": {
          "base_uri": "https://localhost:8080/"
        },
        "id": "YXXtT1j4vzh5",
        "outputId": "55b00835-9256-42a2-ac46-21b77c35cde3"
      },
      "execution_count": null,
      "outputs": [
        {
          "output_type": "stream",
          "name": "stdout",
          "text": [
            "Dave\n",
            "Deleting name!\n"
          ]
        }
      ]
    },
    {
      "cell_type": "code",
      "source": [
        "#print(person.name)  # ❌ Error! (AttributeError: 'Person' has no attribute '_name') # uncomment to see error"
      ],
      "metadata": {
        "id": "u9u1W_FVH7c6"
      },
      "execution_count": null,
      "outputs": []
    },
    {
      "cell_type": "markdown",
      "source": [
        "\n",
        "### **4️⃣ Computed Property (Dynamic Value)**"
      ],
      "metadata": {
        "id": "C1Jtm2ZTwAj4"
      }
    },
    {
      "cell_type": "code",
      "source": [
        "class Person:\n",
        "    def __init__(self, weight_kg, height_m):\n",
        "        self.weight = weight_kg\n",
        "        self.height = height_m\n",
        "\n",
        "    @property\n",
        "    def bmi(self):\n",
        "        \"\"\"Body Mass Index (weight / height²)\"\"\"\n",
        "        return self.weight / (self.height ** 2)\n",
        "\n",
        "# Usage\n",
        "p = Person(70, 1.75)  # 70kg, 1.75m\n",
        "print(p.bmi)  # Output: 22.857..."
      ],
      "metadata": {
        "colab": {
          "base_uri": "https://localhost:8080/"
        },
        "id": "-1K3qzk7wCtx",
        "outputId": "702522c8-8c21-42db-9abc-331e1539bf70"
      },
      "execution_count": null,
      "outputs": [
        {
          "output_type": "stream",
          "name": "stdout",
          "text": [
            "22.857142857142858\n"
          ]
        }
      ]
    },
    {
      "cell_type": "markdown",
      "source": [
        "## **What is Callable**\n",
        "\n",
        "In Python, a `callable` is an object that can be called like a function. In other words, it's an object that can be invoked with parentheses `()` to execute some code.\n",
        "\n",
        "\n",
        "**What makes an object callable?**\n",
        "\n",
        "An object is callable if it has a `__call__` method. This method is a special method that's invoked when you call the object like a function.\n",
        "\n",
        "**Example:**"
      ],
      "metadata": {
        "id": "n2oz2QRJ2xEB"
      }
    },
    {
      "cell_type": "code",
      "source": [
        "class MyClass:\n",
        "    def __call__(self):\n",
        "        print(\"I'm callable!\")\n",
        "\n",
        "obj = MyClass()\n",
        "obj()  # Output: I'm callable!"
      ],
      "metadata": {
        "colab": {
          "base_uri": "https://localhost:8080/"
        },
        "id": "FU_PLF3B3H8Y",
        "outputId": "a96e28c1-11eb-4530-9b18-57c0ca04f1b7"
      },
      "execution_count": null,
      "outputs": [
        {
          "output_type": "stream",
          "name": "stdout",
          "text": [
            "I'm callable!\n"
          ]
        }
      ]
    },
    {
      "cell_type": "markdown",
      "source": [
        "\n",
        "\n",
        "**Checking if an object is callable**\n",
        "\n",
        "You can use the `callable()` function to check if an object is callable:"
      ],
      "metadata": {
        "id": "ZMAMna0d3Tpg"
      }
    },
    {
      "cell_type": "code",
      "source": [
        "def my_function():\n",
        "    pass\n",
        "\n",
        "print(callable(my_function))  # Output: True\n",
        "\n",
        "class MyClass:\n",
        "    def __call__(self):\n",
        "        pass\n",
        "\n",
        "obj = MyClass()\n",
        "print(callable(obj))  # Output: True\n",
        "\n",
        "print(callable(\"hello\"))  # Output: False"
      ],
      "metadata": {
        "colab": {
          "base_uri": "https://localhost:8080/"
        },
        "id": "_JSWJXFn3ZMw",
        "outputId": "14eebfd3-05c7-494c-fcf2-68236bd70098"
      },
      "execution_count": null,
      "outputs": [
        {
          "output_type": "stream",
          "name": "stdout",
          "text": [
            "True\n",
            "True\n",
            "False\n"
          ]
        }
      ]
    },
    {
      "cell_type": "markdown",
      "source": [
        "# **Working with Modules and Packages in OOP**\n",
        "\n",
        "Organizing your code into **modules** and **packages** is essential for maintaining clean, scalable, and maintainable code, especially in large projects. In Python, a **module** is a single file containing Python code (e.g., classes, functions, variables), and a **package** is a directory containing multiple modules and an \\_\\_init__.py file."
      ],
      "metadata": {
        "id": "JCrYdQ4Ak2aN"
      }
    },
    {
      "cell_type": "markdown",
      "source": [
        "\n",
        "### 📦 What is a Package?\n",
        "\n",
        "-   A **package** is just a **folder** that contains **Python modules** (other `.py` files).\n",
        "    \n",
        "-   To be recognized as a **package**, that folder **must have** a special file: `__init__.py`."
      ],
      "metadata": {
        "id": "DOKpNvTfOX3r"
      }
    },
    {
      "cell_type": "markdown",
      "source": [
        "\n",
        "### 🧾 So, what does `__init__.py` do?\n",
        "\n",
        "1.  ✅ **Marks the folder as a package**  \n",
        "    Without `__init__.py`, Python won’t treat the folder as a proper package you can import from.\n",
        "    \n",
        "2.  📦 **Runs initialization code**  \n",
        "    If you want some code to run **when the package is imported**, you can put it inside `__init__.py`.\n",
        "    \n",
        "3.  🪄 **Control what gets exposed**  \n",
        "    You can use it to control what parts of the package are visible when someone does:"
      ],
      "metadata": {
        "id": "oonB8a3nOjMz"
      }
    },
    {
      "cell_type": "markdown",
      "source": [
        "```\n",
        "mypackage/\n",
        "├── __init__.py\n",
        "├── math_utils.py\n",
        "├── string_utils.py\n",
        "```\n"
      ],
      "metadata": {
        "id": "SOIW3LFoOsfL"
      }
    },
    {
      "cell_type": "markdown",
      "source": [
        "```python\n",
        "from mypackage import *\n",
        "```\n"
      ],
      "metadata": {
        "id": "xGIc3ABjO4ay"
      }
    },
    {
      "cell_type": "markdown",
      "source": [
        "# **Advanced OOP Concepts**\n",
        "\n",
        "In this section, we’ll explore some advanced Object-Oriented Programming (OOP) concepts in Python, including **metaclasses**, **design patterns** (Singleton and Factory), and how to implement them."
      ],
      "metadata": {
        "id": "OuJIeervo1IU"
      }
    },
    {
      "cell_type": "markdown",
      "source": [
        "## **1. Metaclasses**\n",
        "\n",
        "A metaclass is the class of a class. It defines how a class behaves. In Python, the default metaclass is type. You can create custom metaclasses to control class creation and behavior."
      ],
      "metadata": {
        "id": "hO7GpHTYpAFS"
      }
    },
    {
      "cell_type": "markdown",
      "source": [
        "## **2. Singleton Design Pattern**\n",
        "\n",
        "The Singleton pattern ensures that a class has only one instance and provides a global point of access to it. This is useful when you need to manage shared resources, such as a database connection or configuration settings."
      ],
      "metadata": {
        "id": "GynKBXLZpH2q"
      }
    },
    {
      "cell_type": "markdown",
      "source": [
        "## **3. Factory Design Pattern**\n",
        "\n",
        "The Factory pattern is a creational design pattern that provides an interface for creating objects in a superclass but allows subclasses to alter the type of objects that will be created. It promotes loose coupling and flexibility."
      ],
      "metadata": {
        "id": "_H8YaIw4pLjK"
      }
    },
    {
      "cell_type": "markdown",
      "source": [
        "## **To know more about Design Pattern please visit:**\n",
        "\n",
        "[The Catalog of Python Design Pattern Examples](https://refactoring.guru/design-patterns/python)\n",
        "\n",
        "[Gang of Four design patterns in Python](https://github.com/tuvo1106/python_design_patterns)\n",
        "\n",
        "[Gang of Four (GOF) Design Patterns](https://www.geeksforgeeks.org/gang-of-four-gof-design-patterns/)"
      ],
      "metadata": {
        "id": "onqIIiRdpoS5"
      }
    },
    {
      "cell_type": "markdown",
      "source": [
        "## **Example: Implementing Advanced OOP Concepts in Python**\n",
        "\n",
        "Let’s create examples to demonstrate metaclasses, the Singleton pattern, and the Factory pattern."
      ],
      "metadata": {
        "id": "fWxlFf7wrwyY"
      }
    },
    {
      "cell_type": "markdown",
      "source": [
        "## **Metaclass Example**"
      ],
      "metadata": {
        "id": "Rh8g5lujr0if"
      }
    },
    {
      "cell_type": "code",
      "source": [
        "# Custom metaclass\n",
        "class Meta(type):\n",
        "    def __new__(cls, name, bases, dct):\n",
        "        print(f\"Creating class: {name}\")\n",
        "        return super().__new__(cls, name, bases, dct)\n",
        "\n",
        "# Class using the custom metaclass\n",
        "class MyClass(metaclass=Meta):\n",
        "    pass\n",
        "\n",
        "# Output: Creating class: MyClass"
      ],
      "metadata": {
        "colab": {
          "base_uri": "https://localhost:8080/"
        },
        "id": "69HDFssYr254",
        "outputId": "dc256267-34b0-4ed2-b78d-f515301857ec"
      },
      "execution_count": null,
      "outputs": [
        {
          "output_type": "stream",
          "name": "stdout",
          "text": [
            "Creating class: MyClass\n"
          ]
        }
      ]
    },
    {
      "cell_type": "markdown",
      "source": [
        "## **Singleton Design Pattern Example**"
      ],
      "metadata": {
        "id": "gL9Yppo4sADI"
      }
    },
    {
      "cell_type": "code",
      "source": [
        "class Singleton:\n",
        "    _instance = None\n",
        "\n",
        "    def __new__(cls, *args, **kwargs):\n",
        "        if cls._instance is None:\n",
        "            cls._instance = super().__new__(cls)\n",
        "        return cls._instance\n",
        "\n",
        "# Create instances of the Singleton class\n",
        "singleton1 = Singleton()\n",
        "singleton2 = Singleton()\n",
        "\n",
        "# Check if both instances are the same\n",
        "print(singleton1 is singleton2)  # Output: True\n",
        "print(id(singleton1) == id(singleton2))  # Output: True"
      ],
      "metadata": {
        "colab": {
          "base_uri": "https://localhost:8080/"
        },
        "id": "UrOglgljsBeP",
        "outputId": "59b32d07-fcdd-4730-e1ab-eafdff67ab69"
      },
      "execution_count": null,
      "outputs": [
        {
          "output_type": "stream",
          "name": "stdout",
          "text": [
            "True\n",
            "True\n"
          ]
        }
      ]
    },
    {
      "cell_type": "markdown",
      "source": [
        "## **Factory Design Pattern Example**"
      ],
      "metadata": {
        "id": "YIOP3DTNsP6n"
      }
    },
    {
      "cell_type": "code",
      "source": [
        "# Product interface\n",
        "class Animal:\n",
        "    def speak(self):\n",
        "        pass\n",
        "\n",
        "# Concrete products\n",
        "class Dog(Animal):\n",
        "    def speak(self):\n",
        "        return \"Woof!\"\n",
        "\n",
        "class Cat(Animal):\n",
        "    def speak(self):\n",
        "        return \"Meow!\"\n",
        "\n",
        "# Factory class\n",
        "class AnimalFactory:\n",
        "    @staticmethod\n",
        "    def create_animal(animal_type):\n",
        "        if animal_type == \"dog\":\n",
        "            return Dog()\n",
        "        elif animal_type == \"cat\":\n",
        "            return Cat()\n",
        "        else:\n",
        "            raise ValueError(\"Invalid animal type\")\n",
        "\n",
        "# Use the factory to create animals\n",
        "dog = AnimalFactory.create_animal(\"dog\")\n",
        "cat = AnimalFactory.create_animal(\"cat\")\n",
        "\n",
        "# Call the speak method\n",
        "print(dog.speak())  # Output: Woof!\n",
        "print(cat.speak())  # Output: Meow!"
      ],
      "metadata": {
        "colab": {
          "base_uri": "https://localhost:8080/"
        },
        "id": "G6WObb5ssR23",
        "outputId": "dd463319-45da-4ed6-f486-67641a807b13"
      },
      "execution_count": null,
      "outputs": [
        {
          "output_type": "stream",
          "name": "stdout",
          "text": [
            "Woof!\n",
            "Meow!\n"
          ]
        }
      ]
    },
    {
      "cell_type": "markdown",
      "source": [
        "# **Error Handling in OOP - Creating Custom Exception**\n",
        "\n",
        "Error handling is a critical aspect of writing robust and reliable code. In Object-Oriented Programming (OOP), you can handle errors by raising exceptions in methods and creating custom exceptions to represent specific error conditions in your application."
      ],
      "metadata": {
        "id": "mB000GdktcIm"
      }
    },
    {
      "cell_type": "markdown",
      "source": [
        "## **Code Example**"
      ],
      "metadata": {
        "id": "bi9pZk8IwN01"
      }
    },
    {
      "cell_type": "code",
      "source": [
        "# Custom exception for insufficient funds\n",
        "class InsufficientFundsError(Exception):\n",
        "    def __init__(self, balance, amount):\n",
        "        super().__init__(f\"Insufficient funds: balance is {balance}, but {amount} was requested.\")\n",
        "        self.balance = balance\n",
        "        self.amount = amount"
      ],
      "metadata": {
        "id": "pocrplPDwRa9"
      },
      "execution_count": null,
      "outputs": []
    },
    {
      "cell_type": "code",
      "source": [
        "car_price = 10000\n",
        "balance = 50000 # Replace 50000 with 50\n",
        "\n",
        "if balance < car_price:\n",
        "    raise InsufficientFundsError(balance, car_price)\n",
        "\n",
        "print(\"Yes! I can buy a car.\")"
      ],
      "metadata": {
        "colab": {
          "base_uri": "https://localhost:8080/"
        },
        "id": "1yMP36cLULyw",
        "outputId": "94c3fa28-28b1-4327-bacb-84e404bdea7e"
      },
      "execution_count": null,
      "outputs": [
        {
          "output_type": "stream",
          "name": "stdout",
          "text": [
            "Yes! I can buy a car.\n"
          ]
        }
      ]
    },
    {
      "cell_type": "markdown",
      "source": [
        "# **Testing OOP Code**\n",
        "\n",
        "Testing is a critical part of software development, especially when working with Object-Oriented Programming (OOP). It ensures that your classes and methods behave as expected. Python provides libraries like unittest for writing and running tests."
      ],
      "metadata": {
        "id": "OIwbXoSbx-Wj"
      }
    },
    {
      "cell_type": "markdown",
      "source": [
        "## **Unit Testing Classes and Methods**\n",
        "\n",
        "**Unit testing** involves testing individual components (e.g., classes and methods) in isolation to ensure they work correctly."
      ],
      "metadata": {
        "id": "5tvqB7NdyE2q"
      }
    },
    {
      "cell_type": "markdown",
      "source": [
        "## **Calculator Class**"
      ],
      "metadata": {
        "id": "SlZnWo79yfxR"
      }
    },
    {
      "cell_type": "code",
      "source": [
        "class Calculator:\n",
        "    def add(self, a, b):\n",
        "        return a + b\n",
        "\n",
        "    def subtract(self, a, b):\n",
        "        return a - b\n",
        "\n",
        "    def multiply(self, a, b):\n",
        "        return a * b\n",
        "\n",
        "    def divide(self, a, b):\n",
        "        if b == 0:\n",
        "            raise ValueError(\"Cannot divide by zero.\")\n",
        "        return a / b"
      ],
      "metadata": {
        "id": "wcNj0JCDyhyU"
      },
      "execution_count": null,
      "outputs": []
    },
    {
      "cell_type": "markdown",
      "source": [
        "## **Testing with unittest**"
      ],
      "metadata": {
        "id": "xf5HpZlayl6C"
      }
    },
    {
      "cell_type": "code",
      "source": [
        "import unittest\n",
        "#from calculator import Calculator\n",
        "\n",
        "class TestCalculator(unittest.TestCase):\n",
        "    def setUp(self):\n",
        "        self.calc = Calculator()\n",
        "\n",
        "    def test_add(self):\n",
        "        self.assertEqual(self.calc.add(2, 3), 5)\n",
        "\n",
        "    def test_subtract(self):\n",
        "        self.assertEqual(self.calc.subtract(5, 3), 2)\n",
        "\n",
        "    def test_multiply(self):\n",
        "        self.assertEqual(self.calc.multiply(2, 3), 6)\n",
        "\n",
        "    def test_divide(self):\n",
        "        self.assertEqual(self.calc.divide(6, 3), 2)\n",
        "\n",
        "    def test_divide_by_zero(self):\n",
        "        with self.assertRaises(ValueError):\n",
        "            self.calc.divide(6, 0)\n",
        "\n",
        "# Replace unittest.main() with the following to run tests in IPython:\n",
        "# if __name__ == \"__main__\":\n",
        "#     unittest.main()\n",
        "# Instead, use:\n",
        "if __name__ == '__main__':\n",
        "    unittest.main(argv=['first-arg-is-ignored'], exit=False)"
      ],
      "metadata": {
        "colab": {
          "base_uri": "https://localhost:8080/"
        },
        "id": "RtJOAJEtynQB",
        "outputId": "bc4cc0bd-8d51-48cd-a431-de21692dea80"
      },
      "execution_count": null,
      "outputs": [
        {
          "output_type": "stream",
          "name": "stderr",
          "text": [
            ".....\n",
            "----------------------------------------------------------------------\n",
            "Ran 5 tests in 0.003s\n",
            "\n",
            "OK\n"
          ]
        }
      ]
    },
    {
      "cell_type": "markdown",
      "source": [
        "# **Iterable**"
      ],
      "metadata": {
        "id": "AJrmBy8pgzSO"
      }
    },
    {
      "cell_type": "markdown",
      "source": [
        "In Python, Iterable is not a parent class but rather an abstract base class (ABC) defined in the collections.abc module. It serves as a protocol or interface that other classes can implement to indicate that they are iterable (i.e., they can be looped over using a for loop or other iteration constructs).\n",
        "\n",
        "## **What is an Iterable?**\n",
        "\n",
        "An iterable is any object that can return an iterator when the iter() function is called on it. The iterator is used to traverse through the elements of the iterable.\n",
        "\n",
        "## **Parent Class Relationship**\n",
        "\n",
        "The Iterable abstract base class is not a parent class in the traditional sense (like inheritance in object-oriented programming). Instead, it is used to define a protocol that other classes can adhere to by implementing the __iter__() method.\n"
      ],
      "metadata": {
        "id": "kFvkPBs1g9aB"
      }
    },
    {
      "cell_type": "markdown",
      "source": [
        "## **Example of Iterable Classes**\n",
        "\n",
        "Many built-in Python classes are iterable because they implement the __iter__() method. These include:\n",
        "\n",
        "1.  **Lists**: list\n",
        "2.  **Tuples**: tuple\n",
        "3.  **Strings**: str\n",
        "4.  **Dictionaries**: dict\n",
        "5.  **Sets**: set\n",
        "6.  **Ranges**: range\n",
        "7.  **Generators**: generator\n",
        "\n",
        "<br>\n",
        "\n",
        "## **How to Check if a Class is Iterable**\n",
        "\n",
        "You can use the isinstance() function with collections.abc.Iterable to check if an object is iterable:"
      ],
      "metadata": {
        "id": "h-GrGfjYhI3w"
      }
    },
    {
      "cell_type": "code",
      "source": [
        "from collections.abc import Iterable\n",
        "\n",
        "# Check if built-in types are iterable\n",
        "print(\"isinstance([1, 2, 3], Iterable) = \",isinstance([1, 2, 3], Iterable))  # True (list is iterable)\n",
        "print('isinstance(\"hello\", Iterable)   = ', isinstance(\"hello\", Iterable))    # True (string is iterable)\n",
        "print(\"isinstance(123, Iterable)       = \", isinstance(123, Iterable))        # False (integer is not iterable)"
      ],
      "metadata": {
        "colab": {
          "base_uri": "https://localhost:8080/"
        },
        "id": "9ybe-M8shdPw",
        "outputId": "b450b6b8-4f5e-4545-db1b-e9cccb0cdc28"
      },
      "execution_count": null,
      "outputs": [
        {
          "output_type": "stream",
          "name": "stdout",
          "text": [
            "isinstance([1, 2, 3], Iterable) =  True\n",
            "isinstance(\"hello\", Iterable)   =  True\n",
            "isinstance(123, Iterable)       =  False\n"
          ]
        }
      ]
    },
    {
      "cell_type": "markdown",
      "source": [
        "## **How to Make a Custom Class Iterable**\n",
        "\n",
        "To make a custom class iterable, you need to implement the __iter__() method, which should return an iterator object. The iterator object must implement the __next__() method.\n",
        "\n",
        "\n",
        "### 🔄 What is Iteration in Python?\n",
        "\n",
        "-   Iteration is just a **fancy word for looping** — like when you use a `for` loop.\n",
        "    \n",
        "-   Behind the scenes, Python uses something called **iterators** to do this looping.\n",
        "\n",
        "## **Example:**"
      ],
      "metadata": {
        "id": "KZxNI4OQhh5w"
      }
    },
    {
      "cell_type": "code",
      "source": [
        "from collections.abc import Iterable, Iterator\n",
        "\n",
        "class MyCollection(Iterable):\n",
        "    def __init__(self, collection_data):\n",
        "        self.collection_data = collection_data\n",
        "\n",
        "    def __iter__(self):\n",
        "        return MyIterator(self.collection_data)\n",
        "\n",
        "class MyIterator(Iterator):\n",
        "    def __init__(self, collection_data):\n",
        "        self.collection_data = collection_data\n",
        "        self.index = 0\n",
        "\n",
        "    def __next__(self):\n",
        "        if self.index >= len(self.collection_data):\n",
        "            raise StopIteration # Builtin Exception in Python: https://docs.python.org/3/library/exceptions.html\n",
        "        value = self.collection_data[self.index]\n",
        "        self.index += 1\n",
        "        print(\"MyIterator.__next__ Called\")\n",
        "        return value\n",
        "\n",
        "# Usage\n",
        "my_iterable = MyCollection([1, 2, 3])\n",
        "for item in my_iterable:\n",
        "    print(\"item : \",item)  # Output: 1, 2, 3"
      ],
      "metadata": {
        "colab": {
          "base_uri": "https://localhost:8080/"
        },
        "id": "Him3BqMrh7CA",
        "outputId": "cf47bdbd-d7d6-4353-c1ed-bf5745c2d4f8"
      },
      "execution_count": null,
      "outputs": [
        {
          "output_type": "stream",
          "name": "stdout",
          "text": [
            "MyIterator.__next__ Called\n",
            "item :  1\n",
            "MyIterator.__next__ Called\n",
            "item :  2\n",
            "MyIterator.__next__ Called\n",
            "item :  3\n"
          ]
        }
      ]
    },
    {
      "cell_type": "markdown",
      "source": [
        "\n",
        "### 🚫 What is `raise StopIteration`?\n",
        "\n",
        "-   `raise StopIteration` is used to **tell Python to stop looping**.\n",
        "    \n",
        "-   It’s like saying: **“I’m done giving you more items!”**\n",
        "    \n",
        "\n",
        "This is used **inside custom iterators** — you’ll rarely write it unless you’re making your own."
      ],
      "metadata": {
        "id": "vYd7pb73Zyui"
      }
    },
    {
      "cell_type": "markdown",
      "source": [
        "## **Key Points**\n",
        "\n",
        "* Iterable is an abstract base class (ABC) from the collections.abc module.\n",
        "\n",
        "* It defines a protocol for iterable objects by requiring the implementation of the __iter__() method.\n",
        "* Many built-in Python classes (e.g., list, tuple, str, dict) are iterable because they implement this protocol.\n",
        "* Custom classes can be made iterable by implementing the __iter__() method."
      ],
      "metadata": {
        "id": "O0ZJLQHdixKx"
      }
    },
    {
      "cell_type": "markdown",
      "source": [
        "# **Object-Based Language vs. Object-Oriented Language**"
      ],
      "metadata": {
        "id": "dQGGiPmudbQN"
      }
    },
    {
      "cell_type": "markdown",
      "source": [
        "## **Object-Based Language**\n",
        "\n",
        "  * **Definition**: A language that supports objects (data structures with attributes and methods) and encapsulation (data hiding), but lacks key OOP features like inheritance and polymorphism.\n",
        "  * **Features**:\n",
        "    * Objects as instances with properties and methods.\n",
        "    * Encapsulation (e.g., public/private access modifiers).\n",
        "    * May include basic polymorphism (e.g., operator overloading).\n",
        "  * Examples: JavaScript (prototype-based, but lacks classical inheritance), classic Visual Basic, Ada."
      ],
      "metadata": {
        "id": "M5-z-Jz9dgB2"
      }
    },
    {
      "cell_type": "markdown",
      "source": [
        "## **Object-Oriented Language**\n",
        "\n",
        "  * **Definition**: A language that implements the four pillars of OOP:\n",
        "    1.  **Encapsulation**: Hiding internal state and requiring interaction via methods.\n",
        "    2.  **Inheritance**: Creating hierarchical relationships between classes (e.g., subclasses reusing parent class code).\n",
        "    3.  **Polymorphism**: Allowing objects of different classes to respond to the same method (via inheritance or interfaces).\n",
        "    4.  **Abstraction**: Simplifying complexity through abstract classes/interfaces.\n",
        "\n",
        "  * Examples: Python, Java, C++, C#."
      ],
      "metadata": {
        "id": "RUDyR5qldyg-"
      }
    },
    {
      "cell_type": "markdown",
      "source": [
        "# **The Python's Object-Centric Nature**"
      ],
      "metadata": {
        "id": "DRDYhz5VeLok"
      }
    },
    {
      "cell_type": "markdown",
      "source": [
        "# **Is Everything in Python an Object? YES!**\n",
        "\n",
        "**Yes, in Python, absolutely everything is an object. This is a fundamental characteristic of the language and a core design principle.**\n",
        "\n",
        "  * **Numbers**: Integers, floats, complex numbers are objects.\n",
        "  * **Strings**: Textual data is represented as string objects.\n",
        "  * **Lists**, Tuples, Dictionaries, Sets: These are built-in container types and are all objects.\n",
        "  * **Functions**: Functions are first-class objects in Python. You can assign them to variables, pass them as arguments to other functions, and even return them from functions.\n",
        "  * **Classes and Modules**: Classes themselves are objects (instances of metaclasses), and modules are also objects.\n",
        "  * **Even None**: None, which represents the absence of a value, is an object of the NoneType class.\n",
        "  * **Types/Classes**: In Python, types (like int, str, list) are also objects (they are instances of the metaclass type).\n",
        "\n",
        "\n",
        "## **How to Verify:**\n",
        "\n",
        "You can use the type() function in Python to check the type of any entity. It will always return a class (which is itself an object)."
      ],
      "metadata": {
        "id": "yXVSTiwqeWay"
      }
    },
    {
      "cell_type": "markdown",
      "source": [
        "``` python\n",
        ">>> type(5)\n",
        "<class 'int'>\n",
        ">>> type(\"hello\")\n",
        "<class 'str'>\n",
        ">>> type([1, 2, 3])\n",
        "<class 'list'>\n",
        ">>> def my_function():\n",
        "...     pass\n",
        ">>> type(my_function)\n",
        "<class 'function'>\n",
        ">>> class MyClass:\n",
        "...     pass\n",
        ">>> obj = MyClass()\n",
        ">>> type(MyClass)\n",
        "<class 'type'>  # Classes are instances of 'type' (metaclass)\n",
        ">>> type(obj)\n",
        "<class '__main__.MyClass'>\n",
        "\n",
        "```"
      ],
      "metadata": {
        "id": "Kafip9bifCR2"
      }
    },
    {
      "cell_type": "markdown",
      "source": [
        "## **Why is this important in Python?**\n",
        "\n",
        "  * **Consistency**: It creates a consistent and unified way to work with data and code. Everything behaves like an object, leading to a more predictable programming model.\n",
        "  \n",
        "  * **Flexibility**: Because functions and classes are objects, Python is highly dynamic and allows for powerful meta-programming techniques. You can inspect, modify, and create objects dynamically at runtime.\n",
        "  * **Object-Oriented Programming**: This \"everything is an object\" nature is foundational to Python's object-oriented features. It makes it natural to work with classes, inheritance, and polymorphism, as all entities are treated as objects."
      ],
      "metadata": {
        "id": "7L8AdoKRfQCT"
      }
    },
    {
      "cell_type": "markdown",
      "source": [
        "## **In summary:**\n",
        "\n",
        "  * Object-based languages provide objects and some basic object-related features but lack the full suite of OOP principles.\n",
        "\n",
        "  * Object-oriented languages fully embrace OOP by incorporating classes, encapsulation, abstraction, inheritance, and polymorphism, leading to better software design and organization.\n",
        "  * **Python is a fully object-oriented language where everything is an object**, contributing to its flexibility, consistency, and power."
      ],
      "metadata": {
        "id": "M-uvnOVQfgJW"
      }
    }
  ]
}